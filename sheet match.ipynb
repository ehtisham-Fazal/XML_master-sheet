{
 "cells": [
  {
   "cell_type": "code",
   "execution_count": 1,
   "metadata": {},
   "outputs": [],
   "source": [
    "import pandas as pd\n",
    "import numpy as np"
   ]
  },
  {
   "cell_type": "code",
   "execution_count": 10,
   "metadata": {},
   "outputs": [],
   "source": [
    "new = pd.read_excel('Masterlist-v2_new.xlsx')\n",
    "old= pd.read_excel('Masterlist-v2_old.xlsx')\n"
   ]
  },
  {
   "cell_type": "code",
   "execution_count": 3,
   "metadata": {},
   "outputs": [
    {
     "name": "stdout",
     "output_type": "stream",
     "text": [
      "False\n"
     ]
    },
    {
     "name": "stderr",
     "output_type": "stream",
     "text": [
      "<ipython-input-3-2e4dafbcca08>:1: DeprecationWarning: elementwise comparison failed; this will raise an error in the future.\n",
      "  comparison_values = new.values == old.values\n"
     ]
    }
   ],
   "source": [
    "comparison_values = new.values == old.values\n",
    "print (comparison_values)"
   ]
  },
  {
   "cell_type": "code",
   "execution_count": 42,
   "metadata": {},
   "outputs": [],
   "source": [
    "import pandas as pd\n",
    "import numpy as np\n",
    "from xlsxwriter.utility import xl_rowcol_to_cell\n",
    "\n",
    "template = pd.read_excel(\"new_hira.xlsx\",na_values=np.nan,header=None)\n",
    "testSheet = pd.read_excel(\"Masterlist-v2_old.xlsx\",na_values=np.nan,header=None)\n",
    "\n",
    "rt,ct = template.shape\n",
    "rtest,ctest = testSheet.shape\n",
    "\n",
    "df = pd.DataFrame(columns=['Cell_Location','BaseTemplate_Value','CurrentFile_Value'])\n",
    "\n",
    "for rowNo in range(max(rt,rtest)):\n",
    "  for colNo in range(max(ct,ctest)):\n",
    "    # Fetching the template value at a cell\n",
    "    try:\n",
    "        template_val = template.iloc[rowNo,colNo]\n",
    "    except:\n",
    "        template_val = np.nan\n",
    "\n",
    "    # Fetching the testsheet value at a cell\n",
    "    try:\n",
    "        testSheet_val = testSheet.iloc[rowNo,colNo]\n",
    "    except:\n",
    "        testSheet_val = np.nan\n",
    "\n",
    "    # Comparing the values\n",
    "    if (str(template_val)!=str(testSheet_val)):\n",
    "        cell = xl_rowcol_to_cell(rowNo, colNo)\n",
    "        dfTemp = pd.DataFrame([[cell,template_val,testSheet_val]],\n",
    "                              columns=['Cell_Location','BaseTemplate_Value','CurrentFile_Value'])\n",
    "        df = df.append(dfTemp)"
   ]
  },
  {
   "cell_type": "code",
   "execution_count": 43,
   "metadata": {},
   "outputs": [],
   "source": [
    "df.to_excel('output14.xlsx', engine='xlsxwriter')  "
   ]
  },
  {
   "cell_type": "code",
   "execution_count": null,
   "metadata": {},
   "outputs": [],
   "source": []
  }
 ],
 "metadata": {
  "kernelspec": {
   "display_name": "Python 3",
   "language": "python",
   "name": "python3"
  },
  "language_info": {
   "codemirror_mode": {
    "name": "ipython",
    "version": 3
   },
   "file_extension": ".py",
   "mimetype": "text/x-python",
   "name": "python",
   "nbconvert_exporter": "python",
   "pygments_lexer": "ipython3",
   "version": "3.8.5"
  }
 },
 "nbformat": 4,
 "nbformat_minor": 4
}
