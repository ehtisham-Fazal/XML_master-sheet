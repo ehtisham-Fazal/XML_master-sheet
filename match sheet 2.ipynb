{
 "cells": [
  {
   "cell_type": "code",
   "execution_count": 2,
   "metadata": {},
   "outputs": [],
   "source": [
    "import pandas as pd\n",
    "import numpy as np"
   ]
  },
  {
   "cell_type": "code",
   "execution_count": 4,
   "metadata": {},
   "outputs": [],
   "source": [
    "df_file1 = pd.read_excel(\"Masterlist-v2_new.xlsx\")#Source_data.csv\n",
    "df_file1 = df_file1.replace(np.nan, '', regex=True) #Replacing Nan with space\n",
    "df_file2 = pd.read_excel(\"Masterlist-v2_old.xlsx\")#Target_data.csv\n",
    "df_file2 = df_file2.replace(np.nan, '', regex=True)\n",
    "\n",
    "df_i = pd.concat([df_file1, df_file2], axis='columns', keys=['file1', 'file2'])\n",
    "\n",
    "df_f = df_i.swaplevel(axis='columns')[df_file2.columns[0:]]\n",
    "\n",
    "def highlight_diff(data, color='yellow'):\n",
    "    attr = 'background-color: {}'.format(color)\n",
    "    other = data.xs('file1', axis='columns', level=-1)\n",
    "    return pd.DataFrame(np.where(data.ne(other, level=0), attr, ''), index=data.index, columns=data.columns)\n",
    "\n",
    "df_final = df_f.style.apply(highlight_diff, axis=None)\n",
    "\n",
    "writer = pd.ExcelWriter('comparexcels.xlsx')\n",
    "df_final.to_excel(writer)\n",
    "writer.save()"
   ]
  },
  {
   "cell_type": "code",
   "execution_count": null,
   "metadata": {},
   "outputs": [],
   "source": []
  }
 ],
 "metadata": {
  "kernelspec": {
   "display_name": "Python 3",
   "language": "python",
   "name": "python3"
  },
  "language_info": {
   "codemirror_mode": {
    "name": "ipython",
    "version": 3
   },
   "file_extension": ".py",
   "mimetype": "text/x-python",
   "name": "python",
   "nbconvert_exporter": "python",
   "pygments_lexer": "ipython3",
   "version": "3.8.5"
  }
 },
 "nbformat": 4,
 "nbformat_minor": 4
}
