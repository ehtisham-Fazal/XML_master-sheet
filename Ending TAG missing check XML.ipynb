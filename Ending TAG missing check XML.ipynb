{
 "cells": [
  {
   "cell_type": "markdown",
   "metadata": {},
   "source": [
    "<h1>IMPORT LIBABRY<h1>"
   ]
  },
  {
   "cell_type": "code",
   "execution_count": 1,
   "metadata": {},
   "outputs": [],
   "source": [
    "import openpyxl\n",
    "import collections\n",
    "import re\n",
    "from openpyxl.utils import get_column_letter"
   ]
  },
  {
   "cell_type": "markdown",
   "metadata": {},
   "source": [
    "<H2>SELETE SHEET + ADD SHEET NAME AS WELL<H2>"
   ]
  },
  {
   "cell_type": "code",
   "execution_count": 2,
   "metadata": {},
   "outputs": [],
   "source": [
    "wb = openpyxl.load_workbook(r'C:\\Users\\Cloudee\\Desktop\\AUTO TASK\\codefiles\\SCRIPT FILES\\v27.xlsx')\n",
    "wb.sheetnames\n",
    "sheet = wb[\"Aug-1\"]"
   ]
  },
  {
   "cell_type": "code",
   "execution_count": 3,
   "metadata": {},
   "outputs": [],
   "source": [
    "activity_title_dic={'I':'gcactivity_login_signatureurl',\n",
    "                    'M':'gcactivity_loginfail_signatureurl',\n",
    "                    'Q':'gcactivity_logout_signatureurl',\n",
    "                    'U':'gcactivity_upload_signatureurl',\n",
    "                    'Y':'gcactivity_download_signatureurl',\n",
    "                    'AC':'gcactivity_delete_signatureurl',\n",
    "                    'AG':'gcactivity_share_signatureurl',\n",
    "                    'AK':'gcactivity_readonly_signatureurl'}"
   ]
  },
  {
   "cell_type": "markdown",
   "metadata": {},
   "source": [
    "<H2>SOME FUNCTION USED<H2>"
   ]
  },
  {
   "cell_type": "code",
   "execution_count": 4,
   "metadata": {},
   "outputs": [],
   "source": [
    "#FIND SINGLE CHARETER AND RETURNS IT....\n",
    "def find(s, ch):\n",
    "\treturn [i for i, ltr in enumerate(s) if ltr == ch]\n",
    "def missing_tag():\n",
    "    print(\"starting missing tag\")\n",
    "    counter=0\n",
    "    counter2=0\n",
    "    counter3=0\n",
    "    counter4=0\n",
    "    for row in sheet.iter_rows(min_row=2, max_col=55, max_row=4459):\n",
    "         for cell in row:\n",
    "            #enter logic here\n",
    "            str1=str(cell.value)\n",
    "            indexes = find(str1,\"<\")\n",
    "            if len(indexes)>0:\n",
    "    #             print(\"Product ID : \"+ str(row[0].value))\n",
    "    #             #print(get_column_letter(cell.column))\n",
    "    #             my_letter=get_column_letter(cell.column)\n",
    "    #             for key, value in activity_title_dic.items():\n",
    "    #                 if key == my_letter:\n",
    "    #                     print(value)\n",
    "    #                     print(\"\")\n",
    "                if \"</and>\" not in str1:\n",
    "                    counter=counter+1\n",
    "                    print(\"</and> not found \"+ str(row[1].value))\n",
    "                    print(get_column_letter(cell.column))\n",
    "                    \n",
    "                if \"</entry>\" not in str1:\n",
    "                    counter2=counter2+1\n",
    "                    print(\"</and> not found \"+ str(row[1].value))\n",
    "                    print(get_column_letter(cell.column))\n",
    "                if \"</pattern-match>\" not in str1:\n",
    "                    counter3=counter3+1\n",
    "                    print(\"</and> not found \"+ str(row[1].value))\n",
    "                    print(get_column_letter(cell.column))\n",
    "                if \"</entry></and>\" not in str1:\n",
    "                    counter4=counter4+1\n",
    "                    print(\"</and> not found \"+ str(row[1].value))\n",
    "                    print(get_column_letter(cell.column))\n",
    "\n",
    "    print(\"</and> not found no of file  : \"+str(counter))\n",
    "    print(\"</entry> not found no of file : \"+str(counter2))\n",
    "    print(\"</pattern-match> not found no of file : \"+str(counter3))\n",
    "    print(\"</entry></and> not found no of file : \"+str(counter4))\n",
    "    print(\"____!!___!!___!!__!!___\")"
   ]
  },
  {
   "cell_type": "markdown",
   "metadata": {},
   "source": [
    "<H2>MAIN LOGIC...<H2>"
   ]
  },
  {
   "cell_type": "code",
   "execution_count": 5,
   "metadata": {},
   "outputs": [
    {
     "name": "stdout",
     "output_type": "stream",
     "text": [
      "</and> not found no of file  : 0\n",
      "</entry> not found no of file : 0\n",
      "</pattern-match> not found no of file : 0\n",
      "</entry></and> not found no of file : 0\n",
      "____!!___!!___!!__!!___\n"
     ]
    }
   ],
   "source": [
    "counter=0\n",
    "counter2=0\n",
    "counter3=0\n",
    "counter4=0\n",
    "for row in sheet.iter_rows(min_row=2, max_col=55, max_row=4459):\n",
    "     for cell in row:\n",
    "        #enter logic here\n",
    "        str1=str(cell.value)\n",
    "        indexes = find(str1,\"<\")\n",
    "        if len(indexes)>0:\n",
    "                #print(\"Product ID : \"+ str(row[0].value))\n",
    "                #print(get_column_letter(cell.column))\n",
    "                #my_letter=get_column_letter(cell.column)\n",
    "                #for key, value in activity_title_dic.items():\n",
    "                    #if key == my_letter:\n",
    "                        #print(value)\n",
    "                        #print(\"\")\n",
    "                        if \"</and>\" not in str1:                                                    \n",
    "                                counter=counter+1\n",
    "                                print(\"</and> not found \"+ str(row[0].value))\n",
    "                                print(get_column_letter(cell.column))\n",
    "                        if \"</entry>\" not in str1:\n",
    "                                counter2=counter2+1\n",
    "                                print(\"</entry> not found\" + str(row[0].value))\n",
    "                                print(get_column_letter(cell.column))\n",
    "                        if \"</pattern-match>\" not in str1:\n",
    "                                counter3=counter3+1\n",
    "                                print(\"</pattern-match> not found\" + str(row[0].value))\n",
    "                                print(get_column_letter(cell.column))\n",
    "                        if \"</entry></and>\" not in str1:\n",
    "                                counter4=counter4+1\n",
    "                                print(\"</entry></and> not found\"+ str(row[0].value))\n",
    "                                print(get_column_letter(cell.column))\n",
    "            \n",
    "print(\"</and> not found no of file  : \"+str(counter))\n",
    "print(\"</entry> not found no of file : \"+str(counter2))\n",
    "print(\"</pattern-match> not found no of file : \"+str(counter3))\n",
    "print(\"</entry></and> not found no of file : \"+str(counter4))\n",
    "print(\"____!!___!!___!!__!!___\")"
   ]
  },
  {
   "cell_type": "code",
   "execution_count": 6,
   "metadata": {
    "scrolled": true
   },
   "outputs": [
    {
     "name": "stdout",
     "output_type": "stream",
     "text": [
      "starting missing tag\n",
      "</and> not found no of file  : 0\n",
      "</entry> not found no of file : 0\n",
      "</pattern-match> not found no of file : 0\n",
      "</entry></and> not found no of file : 0\n",
      "____!!___!!___!!__!!___\n"
     ]
    }
   ],
   "source": [
    "missing_tag()"
   ]
  },
  {
   "cell_type": "markdown",
   "metadata": {},
   "source": [
    "<H2>The END<H2>"
   ]
  }
 ],
 "metadata": {
  "kernelspec": {
   "display_name": "Python 3",
   "language": "python",
   "name": "python3"
  },
  "language_info": {
   "codemirror_mode": {
    "name": "ipython",
    "version": 3
   },
   "file_extension": ".py",
   "mimetype": "text/x-python",
   "name": "python",
   "nbconvert_exporter": "python",
   "pygments_lexer": "ipython3",
   "version": "3.8.5"
  }
 },
 "nbformat": 4,
 "nbformat_minor": 4
}
