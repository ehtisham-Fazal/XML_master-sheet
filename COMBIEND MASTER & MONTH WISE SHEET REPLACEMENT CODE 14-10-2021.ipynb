{
 "cells": [
  {
   "cell_type": "markdown",
   "metadata": {},
   "source": [
    "<h3> FOR Master Sheet <h3>"
   ]
  },
  {
   "cell_type": "code",
   "execution_count": 5,
   "metadata": {},
   "outputs": [
    {
     "name": "stdout",
     "output_type": "stream",
     "text": [
      "************* you have chossen master list dictionary **********************\n"
     ]
    }
   ],
   "source": [
    "#for master list run this dictionary \n",
    "activity_title_dic={'I':'gcactivity_login_signatureurl',\n",
    "                    'M':'gcactivity_loginfail_signatureurl',\n",
    "                    'Q':'gcactivity_logout_signatureurl',\n",
    "                    'U':'gcactivity_upload_signatureurl',\n",
    "                    'Y':'gcactivity_download_signatureurl',\n",
    "                    'AC':'gcactivity_delete_signatureurl',\n",
    "                    'AG':'gcactivity_share_signatureurl',\n",
    "                    'AK':'gcactivity_readonly_signatureurl'}\n",
    "print(\"************* you have chossen master list dictionary **********************\")\n",
    "master_flag=1"
   ]
  },
  {
   "cell_type": "markdown",
   "metadata": {},
   "source": [
    "<h3> FOR Month wise Sheet <h3>"
   ]
  },
  {
   "cell_type": "code",
   "execution_count": 20,
   "metadata": {},
   "outputs": [
    {
     "name": "stdout",
     "output_type": "stream",
     "text": [
      "************* you have chossen MONTH WISE list dictionary **********************\n"
     ]
    }
   ],
   "source": [
    "#for month wise list run this dictionary\n",
    "activity_title_dic={'Q':'gcactivity_login_signatureurl',\n",
    "                    'U':'gcactivity_loginfail_signatureurl',\n",
    "                    'Y':'gcactivity_logout_signatureurl',\n",
    "                    'AC':'gcactivity_upload_signatureurl',\n",
    "                    'AG':'gcactivity_download_signatureurl',\n",
    "                    'AK':'gcactivity_delete_signatureurl',\n",
    "                    'AO':'gcactivity_share_signatureurl',\n",
    "                    'AS':'gcactivity_readonly_signatureurl',\n",
    "                    'H':'gcactivity_personal',\n",
    "                    'L':'gcactivity_Corporate'}\n",
    "print(\"************* you have chossen MONTH WISE list dictionary **********************\")\n",
    "master_flag=0"
   ]
  },
  {
   "cell_type": "markdown",
   "metadata": {},
   "source": [
    "<h1>Please enter Row Length <h1>"
   ]
  },
  {
   "cell_type": "code",
   "execution_count": 18,
   "metadata": {},
   "outputs": [],
   "source": [
    "my_row_length=5360"
   ]
  },
  {
   "cell_type": "code",
   "execution_count": 21,
   "metadata": {},
   "outputs": [],
   "source": [
    "\n",
    "import openpyxl\n",
    "from openpyxl.utils import get_column_letter\n",
    "\n",
    "wb = openpyxl.load_workbook(r'C:\\Users\\Cloudee\\Downloads\\Masterlist-Corrected-Removed-S3AmazonSig_FixedDuplicates-v5.xlsx')\n",
    "wb.sheetnames\n",
    "sheet = wb[\"oct-1\"]\n",
    "\n",
    "\n",
    "#for finding first charater:\n",
    "def find(s, ch):\n",
    "    return [i for i, ltr in enumerate(s) if ltr == ch]\n",
    "\n",
    "#for replaceing %\n",
    "def replace_precentage():\n",
    "    print(\"______starting______\")\n",
    "    print(\"______#for replaceing %______\")\n",
    "    counter=0\n",
    "    for row in sheet.iter_rows(min_row=2, max_col=55, max_row=my_row_length):\n",
    "         for cell in row:\n",
    "            #enter logic here\n",
    "            str1=str(cell.value)\n",
    "            indexes = find(str1,\"%\")\n",
    "            if len(indexes)>0:\n",
    "                print(\"Product ID : \"+ str(row[0].value))\n",
    "                #print(get_column_letter(cell.column))\n",
    "                my_letter=get_column_letter(cell.column)\n",
    "                for key, value in activity_title_dic.items():\n",
    "                    if key == my_letter:\n",
    "                        print(value)\n",
    "                        print(\"\")\n",
    "\n",
    "            str_indx = 0\n",
    "            new_str = str1\n",
    "            fin_str = \"\"\n",
    "            for i in indexes:\n",
    "              rpc_string = str1[i:i+3]\n",
    "              temp1 = new_str[str_indx:i] + \"\\\\x\" + rpc_string[1:] + \"\\\\x\"\n",
    "              fin_str = fin_str + temp1\n",
    "              str_indx = i+3\n",
    "            if len(indexes)!=0:\n",
    "              #print(\"indexes : \", indexes)\n",
    "              cell.value = fin_str + cell.value[indexes[-1]+3:]\n",
    "              if str1!=cell.value:\n",
    "                    counter=counter+1\n",
    "    print(\"% replace to/x /x; no of cell replace : \"+str(counter))\n",
    "    print(\"____!!___!!_ended__!!__!!___\")   \n",
    "    \n",
    "#for replaceing &amp;   \n",
    "def replace_andapm():\n",
    "    print(\"______starting_____\")\n",
    "    print(\"______#for replaceing &amp; _____\")\n",
    "    counter=0\n",
    "    for row in sheet.iter_rows(min_row=2, max_col=55, max_row=my_row_length):\n",
    "         for cell in row:\n",
    "            #enter logic here\n",
    "            str1=str(cell.value)\n",
    "            indexes = find(str1,\"<\")\n",
    "            if len(indexes)>0:\n",
    "              if \"&amp;\" not in str1 and \"&\" in str1:\n",
    "                new_str = str1.replace(r\"&\", \"&amp;\")\n",
    "                print(\"Product ID : \"+ str(row[0].value))\n",
    "                #print(get_column_letter(cell.column))\n",
    "                my_letter=get_column_letter(cell.column)\n",
    "                for key, value in activity_title_dic.items():\n",
    "                    if key == my_letter:\n",
    "                        print(value)\n",
    "                        print(\"\")\n",
    "                if str1!=new_str:\n",
    "                    counter=counter+1\n",
    "                cell.value=new_str\n",
    "                #print(new_str)\n",
    "    print(\"& replace to &amp; no of cell replace : \"+str(counter))\n",
    "    print(\"____!!___!!_ended__!!__!!___\")   \n",
    "    \n",
    "    \n",
    "#for replaceing /x/x    \n",
    "def replace_backslashx():\n",
    "    print(\"______starting_____\")\n",
    "    print(\"______#for replaceing /x/x _____\")\n",
    "    counter=0\n",
    "    for row in sheet.iter_rows(min_row=2, max_col=55, max_row=my_row_length):\n",
    "         for cell in row:\n",
    "            #enter logic here\n",
    "            str1=str(cell.value)\n",
    "            indexes = find(str1,\"<\")\n",
    "            if len(indexes)>0:\n",
    "              if r\"\\x\\x\"  in str1:\n",
    "                new_str = str1.replace(r\"\\x\\x\", \" \")\n",
    "                print(\"Product ID : \"+ str(row[0].value))\n",
    "                #print(get_column_letter(cell.column))\n",
    "                my_letter=get_column_letter(cell.column)\n",
    "                for key, value in activity_title_dic.items():\n",
    "                    if key == my_letter:\n",
    "                        print(value)\n",
    "                        print(\"\")\n",
    "                if str1!=new_str:\n",
    "                    counter=counter+1\n",
    "                cell.value=new_str\n",
    "                #print(new_str)\n",
    "    print(\"/x/x replace to space no of cell replace : \"+str(counter))\n",
    "    print(\"____!!___!!_ended__!!__!!___\")\n"
   ]
  },
  {
   "cell_type": "code",
   "execution_count": 22,
   "metadata": {},
   "outputs": [
    {
     "name": "stdout",
     "output_type": "stream",
     "text": [
      "FOR MONTH WISE SHEET\n",
      "______starting______\n",
      "______#for replaceing %______\n",
      "Product ID : 52641\n",
      "gcactivity_loginfail_signatureurl\n",
      "\n",
      "Product ID : 54609\n",
      "gcactivity_upload_signatureurl\n",
      "\n",
      "Product ID : 56663\n",
      "gcactivity_download_signatureurl\n",
      "\n",
      "Product ID : 56663\n",
      "gcactivity_delete_signatureurl\n",
      "\n",
      "Product ID : 62723\n",
      "gcactivity_logout_signatureurl\n",
      "\n",
      "Product ID : 72011\n",
      "gcactivity_download_signatureurl\n",
      "\n",
      "Product ID : 73841\n",
      "gcactivity_login_signatureurl\n",
      "\n",
      "Product ID : 74219\n",
      "Product ID : 74219\n",
      "Product ID : 74219\n",
      "gcactivity_download_signatureurl\n",
      "\n",
      "Product ID : 74302\n",
      "gcactivity_download_signatureurl\n",
      "\n",
      "Product ID : 77276\n",
      "gcactivity_loginfail_signatureurl\n",
      "\n",
      "Product ID : 116268\n",
      "Product ID : 116268\n",
      "Product ID : 116268\n",
      "gcactivity_login_signatureurl\n",
      "\n",
      "% replace to/x /x; no of cell replace : 15\n",
      "____!!___!!_ended__!!__!!___\n",
      "\n",
      "______starting_____\n",
      "______#for replaceing &amp; _____\n",
      "Product ID : 54609\n",
      "gcactivity_download_signatureurl\n",
      "\n",
      "& replace to &amp; no of cell replace : 1\n",
      "____!!___!!_ended__!!__!!___\n",
      "\n",
      "______starting_____\n",
      "______#for replaceing /x/x _____\n",
      "Product ID : 73841\n",
      "gcactivity_login_signatureurl\n",
      "\n",
      "Product ID : 20001673\n",
      "Product ID : 20001673\n",
      "/x/x replace to space no of cell replace : 3\n",
      "____!!___!!_ended__!!__!!___\n",
      "\n"
     ]
    }
   ],
   "source": [
    "if master_flag==1:\n",
    "    print(\"FOR MASTER SHEET\")\n",
    "else:\n",
    "        print(\"FOR MONTH WISE SHEET\")\n",
    "replace_precentage()\n",
    "print()\n",
    "replace_andapm()\n",
    "print()\n",
    "replace_backslashx()\n",
    "print()"
   ]
  },
  {
   "cell_type": "code",
   "execution_count": null,
   "metadata": {},
   "outputs": [],
   "source": []
  }
 ],
 "metadata": {
  "kernelspec": {
   "display_name": "Python 3",
   "language": "python",
   "name": "python3"
  },
  "language_info": {
   "codemirror_mode": {
    "name": "ipython",
    "version": 3
   },
   "file_extension": ".py",
   "mimetype": "text/x-python",
   "name": "python",
   "nbconvert_exporter": "python",
   "pygments_lexer": "ipython3",
   "version": "3.8.5"
  }
 },
 "nbformat": 4,
 "nbformat_minor": 4
}
