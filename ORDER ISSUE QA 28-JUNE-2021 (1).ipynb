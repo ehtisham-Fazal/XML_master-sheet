{
 "cells": [
  {
   "cell_type": "markdown",
   "metadata": {},
   "source": [
    "<h1>ORDER ISSUE QA 28-JUNE-2021 <h1>\n",
    "   <h1>IMPORT LIBABRY<h1>"
   ]
  },
  {
   "cell_type": "code",
   "execution_count": 1,
   "metadata": {},
   "outputs": [],
   "source": [
    "import openpyxl\n",
    "import collections\n",
    "import re"
   ]
  },
  {
   "cell_type": "markdown",
   "metadata": {},
   "source": [
    "<H2>SELETE SHEET + ADD SHEET NAME AS WELL<H2>"
   ]
  },
  {
   "cell_type": "code",
   "execution_count": 7,
   "metadata": {},
   "outputs": [],
   "source": [
    "wb = openpyxl.load_workbook(r'Masterlist-v2_new.xlsx')\n",
    "wb.sheetnames\n",
    "sheet = wb[\"JULY-1\"]"
   ]
  },
  {
   "cell_type": "markdown",
   "metadata": {},
   "source": [
    "<H2>SOME FUNCTION USED<H2>"
   ]
  },
  {
   "cell_type": "code",
   "execution_count": 8,
   "metadata": {},
   "outputs": [],
   "source": [
    "#FIND SINGLE CHARETER AND RETURNS IT....\n",
    "def find(s, ch):\n",
    "\treturn [i for i, ltr in enumerate(s) if ltr == ch]\n",
    "\n",
    "#TAKES A DOUBLE LIST AND FLATTEN IT TO 1D LIST ...\n",
    "def flatten(input):\n",
    " new_list = []\n",
    " for i in input:\n",
    "    for j in i:\n",
    "        new_list.append(j)\n",
    " return new_list\n"
   ]
  },
  {
   "cell_type": "markdown",
   "metadata": {},
   "source": [
    "<H2>ADDING dictionary & ORDERED dictionary<H2>"
   ]
  },
  {
   "cell_type": "code",
   "execution_count": 9,
   "metadata": {},
   "outputs": [],
   "source": [
    "my_od = collections.OrderedDict()\n",
    "#ADD YOU KEY & VALUE HERE....\n",
    "my_od['http-req-uri-path'] = [-1]\n",
    "my_od['http-req-params'] = [-1]\n",
    "my_od['http-req-host-header'] =[-1]\n",
    "my_od['http-req-headers'] = [-1]\n",
    "\n",
    "activity_title_dic={'I':'gcactivity_login_signatureurl',\n",
    "                    'M':'gcactivity_loginfail_signatureurl',\n",
    "                    'Q':'gcactivity_logout_signatureurl',\n",
    "                    'U':'gcactivity_upload_signatureurl',\n",
    "                    'Y':'gcactivity_download_signatureurl',\n",
    "                    'AC':'gcactivity_delete_signatureurl',\n",
    "                    'AG':'gcactivity_share_signatureurl',\n",
    "                    'AK':'gcactivity_readonly_signatureurl'}\n"
   ]
  },
  {
   "cell_type": "markdown",
   "metadata": {},
   "source": [
    "<H2>MAIN LOGIC...<H2>"
   ]
  },
  {
   "cell_type": "code",
   "execution_count": 12,
   "metadata": {},
   "outputs": [
    {
     "name": "stdout",
     "output_type": "stream",
     "text": [
      "No of SORTED/ordered list :30447\n",
      "No of NOT SORTED/ordered list :0\n"
     ]
    }
   ],
   "source": [
    "counter=0\n",
    "counter2=0\n",
    "#MAKING LIST FOR HANDDLING !!!! ...\n",
    "my_list=None\n",
    "\n",
    "#ENTERING SHEET AND ITERATING BY ROW...\n",
    "for row in sheet.iter_rows(min_row=2, max_col=55, max_row=3880):\n",
    "     for cell in row:\n",
    "        #HERE STR1 IS USE TO FIND THE FIRST VALUE ....\n",
    "        str1=str(cell.value)\n",
    "        indexes = find(str1,\"<\")\n",
    "        if len(indexes)>0:\n",
    "            #IF WE ARE IS CELL THEN PROCEED FORWORD :\n",
    "            #print(\" CEll FOUND \")\n",
    "            my_list=str1.split(\"!!!!\")\n",
    "            count=0\n",
    "            for i in my_list:\n",
    "                #THE LINE BELOW WILL UPDATE ALL DIC.VALUE TO [-1]\n",
    "                my_od.update( (k,[-1]) for k in my_od )\n",
    "               # print()_______________________________________________for space\n",
    "                \n",
    "                #print(str(count)+\" activity_________!!!!!!!!!\")\n",
    "                #here i is my data cell of index\n",
    "                #COUNTER IS USED TO FOR distinguish ACTVITY 0 FROM 1\n",
    "                count=count+1\n",
    "                \n",
    "                #THE BELOW LOOP WILL CHECK INDEX VALUE OF EACH KEY THAT MAY HAVE REPEDED\n",
    "                for j in my_od.keys():\n",
    "                    x=[m.start() for m in re.finditer(j,i)]\n",
    "                    #print(x)\n",
    "                    #print(i)\n",
    "                    #print(j)\n",
    "                    #FOR CHECKING THE LENGTH OF AGAGINST EACH KEY\n",
    "                    #print(len(x))\n",
    "                    \n",
    "                    if len(x)>0:\n",
    "                        #THIS LINE WILL ASSING VALUE i.e :THE INDEX THAT THEIR ARE FOUNDED\n",
    "                        my_od[j]=x\n",
    "                        \n",
    "                values = my_od.values()\n",
    "                values_list = list(values)\n",
    "                #FROM ABOVE OUR VALUES OF DIC. ARE CONVERED TO LIST\n",
    "                #print(values_list)\n",
    "                #HERE I AM GOING TO REMOVE ALL THE NULL OR NONE VALUE THAT ARE IN MY CASE IS [-1]\n",
    "                while [-1] in values_list: values_list.remove([-1])\n",
    "                #HERE I WILL CALL THE DEF .FLATTEN METHOD ...\n",
    "                flatten_list=flatten(values_list)\n",
    "                #print(flatten_list)\n",
    "                #IN THE LAST I WILL CHECK IF THE LIST IS SORTED OR NOT ....\n",
    "                if sorted(flatten_list) == flatten_list:\n",
    "                     # print(\"OK\")\n",
    "                     counter=counter+1\n",
    "                else:\n",
    "                    print(\"Error found: \")\n",
    "                    print(\"Product ID : \"+ str(row[0].value))\n",
    "                    print(\"Product ID : \"+ str(row[1].value))\n",
    "                    print(values_list)\n",
    "                    print(flatten_list)\n",
    "                    counter2=counter2+1\n",
    "                    \n",
    "print(\"No of SORTED/ordered list :\"+str(counter))\n",
    "print(\"No of NOT SORTED/ordered list :\"+str(counter2))\n",
    "                    \n"
   ]
  },
  {
   "cell_type": "markdown",
   "metadata": {},
   "source": [
    "<H2>THE END<H2>"
   ]
  }
 ],
 "metadata": {
  "kernelspec": {
   "display_name": "Python 3",
   "language": "python",
   "name": "python3"
  },
  "language_info": {
   "codemirror_mode": {
    "name": "ipython",
    "version": 3
   },
   "file_extension": ".py",
   "mimetype": "text/x-python",
   "name": "python",
   "nbconvert_exporter": "python",
   "pygments_lexer": "ipython3",
   "version": "3.8.5"
  }
 },
 "nbformat": 4,
 "nbformat_minor": 4
}
