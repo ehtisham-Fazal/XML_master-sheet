{
 "cells": [
  {
   "cell_type": "markdown",
   "metadata": {},
   "source": [
    "<h1>MASTER_LIST_Special_case _REPLACER_CODE 26-7-2021<h1>"
   ]
  },
  {
   "cell_type": "markdown",
   "metadata": {},
   "source": [
    "<h1>Import File<h1>"
   ]
  },
  {
   "cell_type": "code",
   "execution_count": 18,
   "metadata": {},
   "outputs": [],
   "source": [
    "import openpyxl\n",
    "from openpyxl.utils import get_column_letter"
   ]
  },
  {
   "cell_type": "markdown",
   "metadata": {},
   "source": [
    "<H4>SELETE SHEET +AS WELL AS SHEET NAME HINT: PLEASE ADD THE FILE IN A PROPER DIRECTORY <H4>"
   ]
  },
  {
   "cell_type": "code",
   "execution_count": 19,
   "metadata": {},
   "outputs": [],
   "source": [
    "wb = openpyxl.load_workbook(r'C:\\Users\\Cloudee\\Desktop\\AUTO TASK\\data files\\v27.xlsx')\n",
    "wb.sheetnames\n",
    "sheet = wb[\"Aug-1\"]"
   ]
  },
  {
   "cell_type": "markdown",
   "metadata": {},
   "source": [
    "<H4>FIND SINGLE CHARETER AND RETURNS IT<H4>"
   ]
  },
  {
   "cell_type": "code",
   "execution_count": 20,
   "metadata": {},
   "outputs": [],
   "source": [
    "def find(s, ch):\n",
    "\treturn [i for i, ltr in enumerate(s) if ltr == ch]"
   ]
  },
  {
   "cell_type": "markdown",
   "metadata": {},
   "source": [
    "<H4>CLOUMN_TITLE_DICTIONARY<H4>"
   ]
  },
  {
   "cell_type": "code",
   "execution_count": 1,
   "metadata": {},
   "outputs": [],
   "source": [
    "activity_title_dic={'I':'gcactivity_login_signatureurl',\n",
    "                    'M':'gcactivity_loginfail_signatureurl',\n",
    "                    'Q':'gcactivity_logout_signatureurl',\n",
    "                    'U':'gcactivity_upload_signatureurl',\n",
    "                    'Y':'gcactivity_download_signatureurl',\n",
    "                    'AC':'gcactivity_delete_signatureurl',\n",
    "                    'AG':'gcactivity_share_signatureurl',\n",
    "                    'AK':'gcactivity_readonly_signatureurl'}"
   ]
  },
  {
   "cell_type": "markdown",
   "metadata": {},
   "source": [
    "<h1>Replaceing % to \\x ---\\x <h1>"
   ]
  },
  {
   "cell_type": "code",
   "execution_count": 22,
   "metadata": {
    "scrolled": true
   },
   "outputs": [],
   "source": [
    "def replace_precentage():\n",
    "    print(\"______starting______\")\n",
    "    counter=0\n",
    "    for row in sheet.iter_rows(min_row=2, max_col=55, max_row=4500):\n",
    "         for cell in row:\n",
    "            #enter logic here\n",
    "            str1=str(cell.value)\n",
    "            indexes = find(str1,\"%\")\n",
    "            if len(indexes)>0:\n",
    "                print(\"Product ID : \"+ str(row[0].value))\n",
    "                #print(get_column_letter(cell.column))\n",
    "                my_letter=get_column_letter(cell.column)\n",
    "                for key, value in activity_title_dic.items():\n",
    "                    if key == my_letter:\n",
    "                        print(value)\n",
    "                        print(\"\")\n",
    "\n",
    "            str_indx = 0\n",
    "            new_str = str1\n",
    "            fin_str = \"\"\n",
    "            for i in indexes:\n",
    "                rpc_string = str1[i:i+3]\n",
    "                temp1 = new_str[str_indx:i] + \"\\\\x\" + rpc_string[1:] + \"\\\\x\"\n",
    "                fin_str = fin_str + temp1\n",
    "                str_indx = i+3\n",
    "                if len(indexes)!=0:\n",
    "              #print(\"indexes : \", indexes)\n",
    "                 cell.value = fin_str + cell.value[indexes[-1]+3:]\n",
    "                if str1!=cell.value:\n",
    "                    counter=counter+1\n",
    "    print(\"% replace to/x /x; no of cell replace : \"+str(counter))\n",
    "    print(\"____!!___!!_ended__!!__!!___\")   "
   ]
  },
  {
   "cell_type": "code",
   "execution_count": null,
   "metadata": {},
   "outputs": [],
   "source": []
  },
  {
   "cell_type": "code",
   "execution_count": 23,
   "metadata": {},
   "outputs": [
    {
     "name": "stdout",
     "output_type": "stream",
     "text": [
      "______starting______\n",
      "Product ID : 2978\n",
      "gcactivity_share_signatureurl\n",
      "\n",
      "Product ID : 4018\n",
      "gcactivity_share_signatureurl\n",
      "\n",
      "Product ID : 4018\n",
      "gcactivity_personal_signatureurl\n",
      "\n",
      "Product ID : 16114\n",
      "gcactivity_login_signatureurl\n",
      "\n",
      "Product ID : 16114\n",
      "gcactivity_loginfail_signatureurl\n",
      "\n",
      "Product ID : 20126\n",
      "gcactivity_login_signatureurl\n",
      "\n",
      "Product ID : 20126\n",
      "gcactivity_loginfail_signatureurl\n",
      "\n",
      "Product ID : 52116\n",
      "gcactivity_login_signatureurl\n",
      "\n",
      "Product ID : 52116\n",
      "gcactivity_loginfail_signatureurl\n",
      "\n",
      "Product ID : 52125\n",
      "gcactivity_login_signatureurl\n",
      "\n",
      "Product ID : 52125\n",
      "gcactivity_loginfail_signatureurl\n",
      "\n",
      "Product ID : 67017\n",
      "gcactivity_login_signatureurl\n",
      "\n",
      "Product ID : 67017\n",
      "gcactivity_loginfail_signatureurl\n",
      "\n",
      "Product ID : 67021\n",
      "gcactivity_login_signatureurl\n",
      "\n",
      "Product ID : 67021\n",
      "gcactivity_loginfail_signatureurl\n",
      "\n",
      "Product ID : 76043\n",
      "gcactivity_upload_signatureurl\n",
      "\n",
      "Product ID : 76043\n",
      "gcactivity_download_signatureurl\n",
      "\n",
      "Product ID : 87437\n",
      "gcactivity_login_signatureurl\n",
      "\n",
      "Product ID : 87437\n",
      "gcactivity_loginfail_signatureurl\n",
      "\n",
      "Product ID : 87452\n",
      "gcactivity_login_signatureurl\n",
      "\n",
      "Product ID : 87452\n",
      "gcactivity_loginfail_signatureurl\n",
      "\n",
      "Product ID : 91202\n",
      "gcactivity_login_signatureurl\n",
      "\n",
      "Product ID : 91202\n",
      "gcactivity_loginfail_signatureurl\n",
      "\n",
      "Product ID : 91202\n",
      "gcactivity_logout_signatureurl\n",
      "\n",
      "Product ID : 100511\n",
      "gcactivity_login_signatureurl\n",
      "\n",
      "Product ID : 100511\n",
      "gcactivity_loginfail_signatureurl\n",
      "\n",
      "Product ID : 20000084\n",
      "gcactivity_login_signatureurl\n",
      "\n",
      "Product ID : 20000084\n",
      "gcactivity_loginfail_signatureurl\n",
      "\n",
      "Product ID : 20000318\n",
      "gcactivity_login_signatureurl\n",
      "\n",
      "Product ID : 20000318\n",
      "gcactivity_loginfail_signatureurl\n",
      "\n",
      "Product ID : 20000361\n",
      "gcactivity_login_signatureurl\n",
      "\n",
      "Product ID : 20000361\n",
      "gcactivity_loginfail_signatureurl\n",
      "\n",
      "Product ID : 20000612\n",
      "gcactivity_login_signatureurl\n",
      "\n",
      "Product ID : 20000612\n",
      "gcactivity_loginfail_signatureurl\n",
      "\n",
      "Product ID : 20001170\n",
      "gcactivity_login_signatureurl\n",
      "\n",
      "Product ID : 20001170\n",
      "gcactivity_logout_signatureurl\n",
      "\n",
      "Product ID : 20001173\n",
      "gcactivity_share_signatureurl\n",
      "\n",
      "Product ID : 20001197\n",
      "gcactivity_delete_signatureurl\n",
      "\n",
      "Product ID : 20001197\n",
      "gcactivity_share_signatureurl\n",
      "\n",
      "Product ID : 20001241\n",
      "gcactivity_share_signatureurl\n",
      "\n",
      "Product ID : 20001376\n",
      "gcactivity_login_signatureurl\n",
      "\n",
      "Product ID : 20001376\n",
      "gcactivity_loginfail_signatureurl\n",
      "\n",
      "Product ID : 20001444\n",
      "gcactivity_share_signatureurl\n",
      "\n",
      "Product ID : 20001500\n",
      "gcactivity_share_signatureurl\n",
      "\n",
      "Product ID : 20001500\n",
      "gcactivity_personal_signatureurl\n",
      "\n",
      "Product ID : 20001503\n",
      "gcactivity_login_signatureurl\n",
      "\n",
      "Product ID : 20001503\n",
      "gcactivity_loginfail_signatureurl\n",
      "\n",
      "Product ID : 20001722\n",
      "gcactivity_logout_signatureurl\n",
      "\n",
      "Product ID : 20001883\n",
      "gcactivity_login_signatureurl\n",
      "\n",
      "Product ID : 20001883\n",
      "gcactivity_loginfail_signatureurl\n",
      "\n",
      "% replace to/x /x; no of cell replace : 135\n",
      "____!!___!!_ended__!!__!!___\n"
     ]
    }
   ],
   "source": [
    "replace_precentage()"
   ]
  },
  {
   "cell_type": "code",
   "execution_count": 73,
   "metadata": {},
   "outputs": [],
   "source": []
  },
  {
   "cell_type": "markdown",
   "metadata": {},
   "source": [
    "<h1>Replaceing & with &ampamp;<h1>"
   ]
  },
  {
   "cell_type": "code",
   "execution_count": 24,
   "metadata": {},
   "outputs": [
    {
     "name": "stdout",
     "output_type": "stream",
     "text": [
      "& replace to &amp; no of file replace : 11\n"
     ]
    }
   ],
   "source": [
    "counter=0\n",
    "for row in sheet.iter_rows(min_row=2, max_col=55, max_row=4500):\n",
    "     for cell in row:\n",
    "        #enter logic here\n",
    "        str1=str(cell.value)\n",
    "        indexes = find(str1,\"<\")\n",
    "        if len(indexes)>0:\n",
    "#             print(\"Product ID : \"+ str(row[0].value))\n",
    "#             #print(get_column_letter(cell.column))\n",
    "#             my_letter=get_column_letter(cell.column)\n",
    "#             for key, value in activity_title_dic.items():\n",
    "#                 if key == my_letter:\n",
    "#                     print(value)\n",
    "#                     print(\"\")\n",
    "          if \"&amp;\" not in str1:\n",
    "            new_str = str1.replace(r\"&\", \"&amp;\")\n",
    "            if str1!=new_str:\n",
    "                counter=counter+1\n",
    "            cell.value=new_str\n",
    "            #print(new_str)\n",
    "print(\"& replace to &amp; no of file replace : \"+str(counter))"
   ]
  },
  {
   "cell_type": "markdown",
   "metadata": {},
   "source": [
    "<h1>Replaceing \\x\\x with space <h1>"
   ]
  },
  {
   "cell_type": "code",
   "execution_count": 25,
   "metadata": {},
   "outputs": [
    {
     "name": "stdout",
     "output_type": "stream",
     "text": [
      "\\x\\x no of file replace : 26\n"
     ]
    }
   ],
   "source": [
    "counter=0\n",
    "for row in sheet.iter_rows(min_row=2, max_col=55, max_row=4500):\n",
    "     for cell in row:\n",
    "        #enter logic here\n",
    "        str1=str(cell.value)\n",
    "        indexes = find(str1,\"<\")\n",
    "        if len(indexes)>0:\n",
    "#             print(\"Product ID : \"+ str(row[0].value))\n",
    "#             #print(get_column_letter(cell.column))\n",
    "#             my_letter=get_column_letter(cell.column)\n",
    "#             for key, value in activity_title_dic.items():\n",
    "#                 if key == my_letter:\n",
    "#                     print(value)\n",
    "#                     print(\"\")\n",
    "            new_str = str1.replace(r\"\\x\\x\", \" \")\n",
    "            if str1!=new_str:\n",
    "                counter=counter+1\n",
    "            cell.value=new_str\n",
    "            #print(new_str)\n",
    "print(\"\\\\x\\\\x no of file replace : \"+str(counter))"
   ]
  },
  {
   "cell_type": "markdown",
   "metadata": {},
   "source": [
    "<h1>Saving data to  new file in the same directory <h1>"
   ]
  },
  {
   "cell_type": "code",
   "execution_count": 26,
   "metadata": {},
   "outputs": [],
   "source": [
    "wb.save('v27.xlsx')"
   ]
  },
  {
   "cell_type": "markdown",
   "metadata": {},
   "source": [
    "<h1>THE END<h1>"
   ]
  }
 ],
 "metadata": {
  "kernelspec": {
   "display_name": "Python 3",
   "language": "python",
   "name": "python3"
  },
  "language_info": {
   "codemirror_mode": {
    "name": "ipython",
    "version": 3
   },
   "file_extension": ".py",
   "mimetype": "text/x-python",
   "name": "python",
   "nbconvert_exporter": "python",
   "pygments_lexer": "ipython3",
   "version": "3.8.5"
  }
 },
 "nbformat": 4,
 "nbformat_minor": 4
}
